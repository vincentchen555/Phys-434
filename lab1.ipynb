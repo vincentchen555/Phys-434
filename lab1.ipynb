{
 "cells": [
  {
   "cell_type": "code",
   "execution_count": 44,
   "metadata": {},
   "outputs": [
    {
     "name": "stdout",
     "output_type": "stream",
     "text": [
      "-2\n",
      "-0.5\n",
      "0\n",
      "2.5\n",
      "\n",
      "0.022750131948179195\n",
      "0.3085375387259869\n",
      "0.5\n",
      "0.9937903346742238\n",
      "\n",
      "-2.000000000000001\n",
      "-0.5000000000000001\n",
      "0.0\n",
      "2.4999999999999987\n"
     ]
    },
    {
     "data": {
      "text/plain": [
       "[<matplotlib.lines.Line2D at 0x7fb288909e50>]"
      ]
     },
     "execution_count": 44,
     "metadata": {},
     "output_type": "execute_result"
    },
    {
     "data": {
      "image/png": "[encoded data removed]",
      "text/plain": [
       "<Figure size 432x288 with 1 Axes>"
      ]
     },
     "metadata": {
      "needs_background": "light"
     },
     "output_type": "display_data"
    },
    {
     "data": {
      "image/png": "[encoded data removed]",
      "text/plain": [
       "<Figure size 432x288 with 1 Axes>"
      ]
     },
     "metadata": {
      "needs_background": "light"
     },
     "output_type": "display_data"
    }
   ],
   "source": [
    "%matplotlib inline\n",
    "import numpy as np\n",
    "import matplotlib\n",
    "import matplotlib.pyplot as plt\n",
    "import scipy\n",
    "from scipy import stats\n",
    "\n",
    "x_min = -4.0\n",
    "x_max = 4.0\n",
    "mean = 0.0\n",
    "std = 1.0\n",
    "\n",
    "x = np.linspace(x_min, x_max, 100000)\n",
    "\n",
    "#x_dist = stats.norm.rvs(loc = 0, scale = 1, size = 10000)\n",
    "#x_cdf = scipy.stats.norm.cdf(loc = 0, scale = 1, size = 1000)\n",
    "#dgraph = stats.norm.pdf(0.1, 0, 1)\n",
    "\n",
    "a = -2\n",
    "b = -0.5\n",
    "c = 0\n",
    "d = 2.5\n",
    "\n",
    "a_sigma = stats.norm.cdf(a)\n",
    "b_sigma = stats.norm.cdf(b)\n",
    "c_sigma = stats.norm.cdf(c)\n",
    "d_sigma = stats.norm.cdf(d)\n",
    "\n",
    "a2 = stats.norm.ppf(a_sigma)\n",
    "b2 = stats.norm.ppf(b_sigma)\n",
    "c2 = stats.norm.ppf(c_sigma)\n",
    "d2 = stats.norm.ppf(d_sigma)\n",
    "\n",
    "print(a)\n",
    "print(b)\n",
    "print(c)\n",
    "print(d)\n",
    "print()\n",
    "print(a_sigma)\n",
    "print(b_sigma)\n",
    "print(c_sigma)\n",
    "print(d_sigma)\n",
    "print()\n",
    "print(a2)\n",
    "print(b2)\n",
    "print(c2)\n",
    "print(d2)\n",
    "\n",
    "y_min = -1\n",
    "y_max = 5\n",
    "y = np.linspace(y_min, y_max, 100000)\n",
    "fig, ax = plt.subplots(1, 1)\n",
    "ax.plot(y, stats.rayleigh.pdf(y), 'r-', lw=2, alpha=0.6, label='norm pdf')\n",
    "\n",
    "\n",
    "z_min = 0\n",
    "z_max = 50\n",
    "z = np.arange(z_min, z_max)\n",
    "fig, bx = plt.subplots(1, 1)\n",
    "bx.plot(z, stats.binom.pmf(z, z_max, 0.3), 'bo', ms=5, label='binom pmf')"
   ]
  },
  {
   "cell_type": "code",
   "execution_count": null,
   "metadata": {},
   "outputs": [],
   "source": []
  }
 ],
 "metadata": {
  "kernelspec": {
   "display_name": "Python 3",
   "language": "python",
   "name": "python3"
  },
  "language_info": {
   "codemirror_mode": {
    "name": "ipython",
    "version": 3
   },
   "file_extension": ".py",
   "mimetype": "text/x-python",
   "name": "python",
   "nbconvert_exporter": "python",
   "pygments_lexer": "ipython3",
   "version": "3.7.4"
  }
 },
 "nbformat": 4,
 "nbformat_minor": 4
}
