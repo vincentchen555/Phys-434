{
 "cells": [
  {
   "cell_type": "markdown",
   "metadata": {},
   "source": [
    "(1)\n",
    "a. The neural network makes fewer mistakes total of 8, less than 12 that the new algorithm makes.\n",
    "\n",
    "b. The new algorithm works better for zoo, because much less mistakes in identifying person is more important than identifying birds.\n",
    "\n",
    "c.\n",
    "            True Bird\tTrue Person\n",
    "        NN Bird   96        0\n",
    "        NN Person  3        1\n",
    "//\n",
    "            True Bird   True Person\n",
    "        NA Bird    98       1\n",
    "        NA Person   0       1\n",
    "        \n",
    "(2)\n",
    "a. pdf(exponential) + pdf(exponential) = exp(-lambda) + exp(-lambda) = exp(-2 * lambda)\n",
    "    Sum of exponential distribution function is still exponential.\n",
    "    \n",
    "b. The probability distribution function of the ratio of two zero-mean unit variance normal distributions is the cauchy distribution, which is so defined.\n",
    "\n",
    "c. The probability distribution function of vector amplitude in 2-dimensional Gaussian distribution is the positive half of normal distribution, since the amplitude of vector is always positive and the probability starting from the average of the 2-dimensional Gaussion distribution, and goes to zero. "
   ]
  }
 ],
 "metadata": {
  "kernelspec": {
   "display_name": "Python 3",
   "language": "python",
   "name": "python3"
  },
  "language_info": {
   "codemirror_mode": {
    "name": "ipython",
    "version": 3
   },
   "file_extension": ".py",
   "mimetype": "text/x-python",
   "name": "python",
   "nbconvert_exporter": "python",
   "pygments_lexer": "ipython3",
   "version": "3.7.4"
  }
 },
 "nbformat": 4,
 "nbformat_minor": 4
}
